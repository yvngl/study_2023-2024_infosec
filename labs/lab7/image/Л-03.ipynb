{
 "cells": [
  {
   "cell_type": "code",
   "execution_count": 14,
   "id": "353ab53e",
   "metadata": {},
   "outputs": [],
   "source": [
    "def gammator(text, gamma):\n",
    "    \n",
    "    dict = {\"а\" :1, \"б\" :2 , \"в\" :3 ,\"г\" :4 ,\"д\" :5 ,\"е\" :6 ,\"ё\" :7 ,\"ж\": 8, \"з\": 9, \"и\": 10, \n",
    "            \"й\": 11, \"к\": 12, \"л\": 13, \"м\": 14, \"н\": 15, \"о\": 16, \"п\": 17, \"р\": 18, \"с\": 19, \n",
    "            \"т\": 20, \"у\": 21, \"ф\": 22, \"х\": 23, \"ц\": 24, \"ч\": 25, \"ш\": 26, \"щ\": 27, \"ъ\": 28,\n",
    "            \"ы\": 29, \"ь\": 30, \"э\": 31, \"ю\": 32, \"я\": 33        \n",
    "    }\n",
    "    \n",
    "    dict2 = {v : k for k, v in dict.items()}\n",
    "    digits_text = []\n",
    "    digits_gamma = []\n",
    "    \n",
    "    for i in text:\n",
    "        digits_text.append(dict[i])\n",
    "    print(\"Числа текста: \", digits_text)\n",
    "    \n",
    "    for i in gamma:\n",
    "        digits_gamma.append(dict[i])\n",
    "    print(\"Числа гаммы: \", digits_gamma)\n",
    "    \n",
    "    digits_res = []\n",
    "    ch = 0\n",
    "    for i in text:\n",
    "        try:\n",
    "            a = dict[i] + digits_gamma[ch]\n",
    "        except:\n",
    "            ch = 0\n",
    "            a = dict[i] + digits_gamma[ch]\n",
    "        if a >= 33:\n",
    "            a = a%33\n",
    "        ch += 1\n",
    "        digits_res.append(a)\n",
    "    print(\"Числа шифра: \", digits_res)\n",
    "    \n",
    "    text_enc = \"\"\n",
    "    for i in digits_res:\n",
    "        text_enc += dict2[i]\n",
    "    print(\"Зашифрованный текст: \", text_enc)\n",
    "    \n",
    "    digits = []\n",
    "    for i in text_enc:\n",
    "        digits.append(dict[i])\n",
    "    ch = 0\n",
    "    digits1 = []\n",
    "    for i in digits:\n",
    "        a = i - digits_gamma[ch]\n",
    "        if a < 1:\n",
    "            a = 33 + a\n",
    "        digits1.append(a)\n",
    "        ch += 1\n",
    "    \n",
    "    text_dec = \"\"\n",
    "    for i in digits1:\n",
    "        text_dec += dict2[i]\n",
    "    print(\"Расшифрованный текст: \", text_dec)"
   ]
  },
  {
   "cell_type": "code",
   "execution_count": 15,
   "id": "daa40e46",
   "metadata": {},
   "outputs": [],
   "source": [
    "text = \"проверкапрограммышифрования\"\n",
    "gamma = \"влцмьесмьудфдкьмтфдудфмьимф\""
   ]
  },
  {
   "cell_type": "code",
   "execution_count": 16,
   "id": "b8c5cff9",
   "metadata": {},
   "outputs": [
    {
     "data": {
      "text/plain": [
       "27"
      ]
     },
     "execution_count": 16,
     "metadata": {},
     "output_type": "execute_result"
    }
   ],
   "source": [
    "len(text)"
   ]
  },
  {
   "cell_type": "code",
   "execution_count": 17,
   "id": "930110ed",
   "metadata": {},
   "outputs": [
    {
     "data": {
      "text/plain": [
       "27"
      ]
     },
     "execution_count": 17,
     "metadata": {},
     "output_type": "execute_result"
    }
   ],
   "source": [
    "len(gamma)"
   ]
  },
  {
   "cell_type": "code",
   "execution_count": 18,
   "id": "abb92111",
   "metadata": {},
   "outputs": [
    {
     "name": "stdout",
     "output_type": "stream",
     "text": [
      "Числа текста:  [17, 18, 16, 3, 6, 18, 12, 1, 17, 18, 16, 4, 18, 1, 14, 14, 29, 26, 10, 22, 18, 16, 3, 1, 15, 10, 33]\n",
      "Числа гаммы:  [3, 13, 24, 14, 30, 6, 19, 14, 30, 21, 5, 22, 5, 12, 30, 14, 20, 22, 5, 21, 5, 22, 14, 30, 10, 14, 22]\n",
      "Числа шифра:  [20, 31, 7, 17, 3, 24, 31, 15, 14, 6, 21, 26, 23, 13, 11, 28, 16, 15, 15, 10, 23, 5, 17, 31, 25, 24, 22]\n",
      "Зашифрованный текст:  тэёпвцэнмеушхлйъоннихдпэчцф\n",
      "Расшифрованный текст:  проверкапрограммышифрования\n"
     ]
    }
   ],
   "source": [
    "gammator(text, gamma)"
   ]
  },
  {
   "cell_type": "code",
   "execution_count": null,
   "id": "d456e595",
   "metadata": {},
   "outputs": [],
   "source": []
  }
 ],
 "metadata": {
  "kernelspec": {
   "display_name": "Python 3 (ipykernel)",
   "language": "python",
   "name": "python3"
  },
  "language_info": {
   "codemirror_mode": {
    "name": "ipython",
    "version": 3
   },
   "file_extension": ".py",
   "mimetype": "text/x-python",
   "name": "python",
   "nbconvert_exporter": "python",
   "pygments_lexer": "ipython3",
   "version": "3.9.9"
  }
 },
 "nbformat": 4,
 "nbformat_minor": 5
}
